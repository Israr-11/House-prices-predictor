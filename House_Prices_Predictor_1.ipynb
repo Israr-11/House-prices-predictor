{
  "cells": [
    {
      "cell_type": "markdown",
      "metadata": {
        "id": "view-in-github",
        "colab_type": "text"
      },
      "source": [
        "<a href=\"https://colab.research.google.com/github/Israr-11/House-prices-predictor/blob/main/House_Prices_Predictor_1.ipynb\" target=\"_parent\"><img src=\"https://colab.research.google.com/assets/colab-badge.svg\" alt=\"Open In Colab\"/></a>"
      ]
    },
    {
      "cell_type": "markdown",
      "source": [
        "Step 01: Importing the required Libraries"
      ],
      "metadata": {
        "id": "074iBpxTDCMr"
      }
    },
    {
      "cell_type": "code",
      "execution_count": 2,
      "metadata": {
        "id": "zhm4G2XPvap9"
      },
      "outputs": [],
      "source": [
        "import numpy as np\n",
        "import pandas as pd\n",
        "from sklearn.datasets import fetch_california_housing\n",
        "from sklearn.model_selection import train_test_split\n",
        "from sklearn.linear_model import LinearRegression\n",
        "from sklearn.metrics import mean_squared_error, r2_score\n",
        "from matplotlib.pyplot import figure\n",
        "import matplotlib.pyplot as plt\n",
        "import seaborn as sns\n",
        "import joblib"
      ]
    },
    {
      "cell_type": "markdown",
      "source": [
        "Step 02: Loading the Dataset"
      ],
      "metadata": {
        "id": "16UCY3jUDPXo"
      }
    },
    {
      "cell_type": "code",
      "execution_count": 3,
      "metadata": {
        "id": "5aaxyqE6bW0z"
      },
      "outputs": [],
      "source": [
        "#Loading the dataset\n",
        "housing=fetch_california_housing()"
      ]
    },
    {
      "cell_type": "markdown",
      "source": [
        "Step 03: Creating dataframes of raw un-structured datasets (creating 2D structure as rows and coloumn)"
      ],
      "metadata": {
        "id": "AMB6KiueDoi8"
      }
    },
    {
      "cell_type": "code",
      "execution_count": null,
      "metadata": {
        "id": "0_s6YRSAcMKu"
      },
      "outputs": [],
      "source": [
        "# DataFrame is a 2-dimensional labeled data structure with columns of potentially different types\n",
        "df = pd.DataFrame(housing.data, columns=housing.feature_names)\n",
        "\n",
        "df['MedHouseVal'] = housing.target\n",
        "\n",
        "# Display the first few rows\n",
        "df.head()"
      ]
    },
    {
      "cell_type": "markdown",
      "source": [
        "Step 04: Separating the test and train datasets"
      ],
      "metadata": {
        "id": "zEXh9ZPs6axY"
      }
    },
    {
      "cell_type": "code",
      "source": [
        "#For dropping the coloumn of MedHouseVal for X-axis from the dataframe, as it will contain all the target variables values\n",
        "X=df.drop('MedHouseVal', axis=1)\n",
        "\n",
        "#Extracting the Y value from dataframe\n",
        "Y=df['MedHouseVal']\n",
        "\n",
        "#Spliting the data into the training and testing subsets.X,Y are the separated features and values varaibles respectively.\n",
        "X_train, X_test, Y_train, Y_test= train_test_split(X,Y,test_size=0.2,random_state=42)"
      ],
      "metadata": {
        "id": "BgIngA3l_vAY"
      },
      "execution_count": 5,
      "outputs": []
    },
    {
      "cell_type": "markdown",
      "source": [
        "Step 05: Training the Linear Regression Model"
      ],
      "metadata": {
        "id": "zwTVylXh4vKT"
      }
    },
    {
      "cell_type": "code",
      "source": [
        "model=LinearRegression()\n",
        "model.fit(X_train, Y_train)"
      ],
      "metadata": {
        "id": "k9bJB0hY43sC"
      },
      "execution_count": null,
      "outputs": []
    },
    {
      "cell_type": "markdown",
      "source": [
        "Step 06: Evaluate the Model\n",
        "Note: Lower the mean square error better will the model perform. Whereas, higher the R2 square better the model will perform or you can say higher accuracy and vice versa"
      ],
      "metadata": {
        "id": "-i3Ltx7W8gFr"
      }
    },
    {
      "cell_type": "code",
      "source": [
        "# Firstly, we pass test dataset to the model for prediction and Y_pred is what it predicted for it\n",
        "Y_pred=model.predict(X_test)\n",
        "MSE=mean_squared_error(Y_test, Y_pred)\n",
        "R2=r2_score(Y_test, Y_pred)\n",
        "\n",
        "print(f'Mean Squared Error: {MSE}')\n",
        "print(f'R2 Score: {R2}')"
      ],
      "metadata": {
        "id": "WEgkp7m-8tpZ"
      },
      "execution_count": null,
      "outputs": []
    },
    {
      "cell_type": "markdown",
      "source": [
        "Step 07: Visualize the results"
      ],
      "metadata": {
        "id": "8szwK671E3Dh"
      }
    },
    {
      "cell_type": "code",
      "source": [
        "# This parameter sets the size of the figure to 10 inches wide and 6 inches tall.\n",
        "plt.figure(figsize=(10,6))\n",
        "plt.scatter(Y_test, Y_pred)\n",
        "\n",
        "plt.plot([min(Y_test), max(Y_test)], [min(Y_test), max(Y_test)], color='red')\n",
        "plt.xlabel('Actual Prices')\n",
        "plt.ylabel('Predicted Prices')\n",
        "plt.title('Actual vs Predicted Prices')\n",
        "plt.show()\n"
      ],
      "metadata": {
        "id": "SYA7WH2xLZs6"
      },
      "execution_count": null,
      "outputs": []
    },
    {
      "cell_type": "markdown",
      "source": [
        "Step 08: Saving the model to use in the building an API"
      ],
      "metadata": {
        "id": "REXwx1CIA6k2"
      }
    },
    {
      "cell_type": "code",
      "source": [
        "joblib.dump(model, 'house_prices_predictor_model_1.pkl')"
      ],
      "metadata": {
        "id": "aM1iQYzoBDvi"
      },
      "execution_count": null,
      "outputs": []
    }
  ],
  "metadata": {
    "colab": {
      "provenance": [],
      "authorship_tag": "ABX9TyNTQ+HMrHEhD37URZ6glaR6",
      "include_colab_link": true
    },
    "kernelspec": {
      "display_name": "Python 3",
      "name": "python3"
    },
    "language_info": {
      "name": "python"
    }
  },
  "nbformat": 4,
  "nbformat_minor": 0
}
